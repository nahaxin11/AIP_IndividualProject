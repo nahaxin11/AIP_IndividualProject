{
 "cells": [
  {
   "cell_type": "markdown",
   "metadata": {},
   "source": [
    "# Individual Project Theme 2\n",
    "## Hangman Game"
   ]
  },
  {
   "cell_type": "markdown",
   "metadata": {},
   "source": [
    "**How to use this notebook and complete the project?**\n",
    "\n",
    "1. You need to answer all required questions by answering in the markdown cell.\n",
    "2. Read the instruction and fill in the #todo sections.\n",
    "3. Run all the cells to store the results of each codes.\n",
    "4. Save this notebook by clicking on `File`, then click `Download as`, choose `HTML`.\n",
    "5. Push this notebook to your GitHub reporitory by creating a new repository, named `AIP_IndividualProject`. Set this repository as `Private` until the day of your submission, which is on *29th June 2019, 1.30 PM*."
   ]
  },
  {
   "cell_type": "markdown",
   "metadata": {},
   "source": [
    "**Instructions:**\n",
    "\n",
    "Let's build a game: Hangman! Have you ever heard about Hangman game?\n",
    "It's a game to guess a word letter-by-letter, but, if they make too many wrong guesses, they'll lose.\n",
    "\n",
    "Now, it's the time for you to make a hangman game where player can player with a computer.\n"
   ]
  },
  {
   "cell_type": "markdown",
   "metadata": {},
   "source": [
    "**Question 1**:\n",
    "\n",
    "Draw a flowchart to write the program of this game. You may draw a flowchart by using *powerpoint*, then save it as a picture in `.jpg` or `.png`. Then, use this command to the *Answer* column below.\n",
    "`<img src=_____.jpg>`"
   ]
  },
  {
   "cell_type": "markdown",
   "metadata": {},
   "source": [
    "Answer:<img src=hangman.PNG>"
   ]
  },
  {
   "cell_type": "markdown",
   "metadata": {},
   "source": [
    "**Step 1**:\n",
    "\n",
    "Given a list of words, print a list of words at random."
   ]
  },
  {
   "cell_type": "code",
   "execution_count": 2,
   "metadata": {},
   "outputs": [
    {
     "name": "stdout",
     "output_type": "stream",
     "text": [
      "strong\n"
     ]
    }
   ],
   "source": [
    "from random import choice\n",
    "\n",
    "word = choice([\"pretty\", \"old\", \"young\", \"nice\", \"kind\", \"bad\", \"weak\", \"strong\", \"lazy\", \"weird\"])\n",
    "\n",
    "print(word)"
   ]
  },
  {
   "cell_type": "markdown",
   "metadata": {},
   "source": [
    "**Step 2**:\n",
    "\n",
    "#TODO\n",
    "\n",
    "Write a program to create the hangman game. Write the code in #TODO section. You are free to modified the code.\n",
    "Number of guesses is set to 3. While loop is used for each word that user guessed.\n",
    "The game rules is as below.\n",
    "\n",
    "1. Player need to guess a word.\n",
    "2. Player need to guess one letter each time.\n",
    "3. Only 3 trials are given if player cannot guess the letter correctly.\n",
    "4. If the letters guessed form the same word as the word in the list given in Step 1, player win the game. If not, after 3 trials, player lose the game.\n",
    "\n",
    "For example, given the word 'bad'. Player guess one letter, which is 'b'. So, left only 'a' and 'd'. If player choose a wrong letter, player is given until 3 times to try to guess a letter. After that, player will lose the game. But, if player choose correct letter, player win the game.\n"
   ]
  },
  {
   "cell_type": "code",
   "execution_count": 4,
   "metadata": {
    "scrolled": true
   },
   "outputs": [
    {
     "name": "stdout",
     "output_type": "stream",
     "text": [
      "['_', '_', '_', '_', '_', '_']\n",
      "Enter a letter:s\n",
      "['s', '_', '_', '_', '_', '_']\n",
      "Enter a letter:j\n",
      "['s', '_', '_', '_', '_', '_']\n",
      "Enter a letter:t\n",
      "['s', 't', '_', '_', '_', '_']\n",
      "guess a word:stong\n",
      "YOU LOSE!\n",
      "The word is strong\n"
     ]
    }
   ],
   "source": [
    "#initialization\n",
    "guesses = 3       # Number of guesses\n",
    "count = 0\n",
    "win = False\n",
    "#create a list for guesed_letters\n",
    "guessed_letters = []\n",
    "\n",
    "#create temporary word\n",
    "tempword = []\n",
    "for i in word:\n",
    "    tempword.append(\"_\")\n",
    "#TODO print the tempword\n",
    "print(tempword)\n",
    "\n",
    "while count < guesses and not win == True:\n",
    "    if '_' not in tempword:\n",
    "        print('YOU WIN!')\n",
    "        win = True\n",
    "        break\n",
    "    \n",
    "        \n",
    "    #TODO make the player input a letter\n",
    "    guess =input(\"Enter a letter:\")\n",
    "    guessed_letters.append(guess)\n",
    "    n=0\n",
    "    count+=1\n",
    "    #TODO using if statement, if player guessed correct word display Correct, if not, display Wrong. \n",
    "    #You need to use for loop for this game, so that the word guessed by user is in the answer.\n",
    "    #Add the letter input by user to the guessed_letters variable. \n",
    "    #Reduce the amount of guessed left by using variable count.\n",
    "    for j in word:\n",
    "        n+=1\n",
    "        if (j in guessed_letters) == True:\n",
    "            tempword[n-1]= j     \n",
    "    print(tempword)\n",
    "guess_word =input(\"guess a word:\")\n",
    "if guess_word==word:\n",
    "    print('YOU WIN!')\n",
    "else:\n",
    "    print('YOU LOSE!') \n",
    "print(\"The word is\", word)"
   ]
  },
  {
   "cell_type": "markdown",
   "metadata": {},
   "source": [
    "BONUS\n",
    "\n",
    "Add another player, which is Player 2, make Player 1 and Player 2 play in turns to guess the word."
   ]
  },
  {
   "cell_type": "code",
   "execution_count": null,
   "metadata": {},
   "outputs": [],
   "source": []
  },
  {
   "cell_type": "markdown",
   "metadata": {},
   "source": [
    "**Question 2**:\n",
    "\n",
    "How do you think you can improve your code above?"
   ]
  },
  {
   "cell_type": "markdown",
   "metadata": {},
   "source": [
    "**Answer**:Write different functions in functions"
   ]
  },
  {
   "cell_type": "code",
   "execution_count": null,
   "metadata": {},
   "outputs": [],
   "source": []
  }
 ],
 "metadata": {
  "kernelspec": {
   "display_name": "Python 3",
   "language": "python",
   "name": "python3"
  },
  "language_info": {
   "codemirror_mode": {
    "name": "ipython",
    "version": 3
   },
   "file_extension": ".py",
   "mimetype": "text/x-python",
   "name": "python",
   "nbconvert_exporter": "python",
   "pygments_lexer": "ipython3",
   "version": "3.7.3"
  }
 },
 "nbformat": 4,
 "nbformat_minor": 2
}
